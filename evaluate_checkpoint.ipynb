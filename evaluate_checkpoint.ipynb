{
 "cells": [
  {
   "cell_type": "code",
   "execution_count": 1,
   "metadata": {},
   "outputs": [
    {
     "name": "stderr",
     "output_type": "stream",
     "text": [
      "/home/ubuntu/.local/lib/python3.9/site-packages/tqdm/auto.py:22: TqdmWarning: IProgress not found. Please update jupyter and ipywidgets. See https://ipywidgets.readthedocs.io/en/stable/user_install.html\n",
      "  from .autonotebook import tqdm as notebook_tqdm\n"
     ]
    }
   ],
   "source": [
    "from src.task.optimus import OptimusTask\n"
   ]
  },
  {
   "cell_type": "code",
   "execution_count": 2,
   "metadata": {},
   "outputs": [
    {
     "name": "stderr",
     "output_type": "stream",
     "text": [
      "Special tokens have been added in the vocabulary, make sure the associated word embeddings are fine-tuned or trained.\n",
      "Some weights of the model checkpoint at klue/bert-base were not used when initializing BertModel: ['cls.predictions.decoder.bias', 'cls.predictions.transform.LayerNorm.weight', 'cls.predictions.decoder.weight', 'cls.predictions.transform.dense.weight', 'cls.predictions.bias', 'cls.seq_relationship.weight', 'cls.seq_relationship.bias', 'cls.predictions.transform.LayerNorm.bias', 'cls.predictions.transform.dense.bias']\n",
      "- This IS expected if you are initializing BertModel from the checkpoint of a model trained on another task or with another architecture (e.g. initializing a BertForSequenceClassification model from a BertForPreTraining model).\n",
      "- This IS NOT expected if you are initializing BertModel from the checkpoint of a model that you expect to be exactly identical (initializing a BertForSequenceClassification model from a BertForSequenceClassification model).\n",
      "Some weights of OptimusDecoder were not initialized from the model checkpoint at skt/kogpt2-base-v2 and are newly initialized: ['transformer.linear_mem.weight', 'transformer.linear_emb.weight']\n",
      "You should probably TRAIN this model on a down-stream task to be able to use it for predictions and inference.\n"
     ]
    }
   ],
   "source": [
    "%%capture \n",
    "task = OptimusTask.load_from_checkpoint(\"checkpoint/optimus-aihub_conv-396k.ckpt\")"
   ]
  },
  {
   "cell_type": "markdown",
   "metadata": {},
   "source": [
    "# 대화 생성 실험"
   ]
  },
  {
   "cell_type": "code",
   "execution_count": 38,
   "metadata": {},
   "outputs": [
    {
     "name": "stdout",
     "output_type": "stream",
     "text": [
      "['<|endoftext|> [사용자1]: 너희는 설거지 생기면 바로 해?\\n[사용자2]:  생기면 바로 하는 편이야<|endoftext|>']\n"
     ]
    }
   ],
   "source": [
    "# text = \"[사용자1]: 너희는 설거지 생기면 바로 해?\\n[사용자2]: 웅 나는 설거지 거의 바로 하는 편이야\\n[사용자3]: 웅 나는 설거지 바로 바로 해 성격이 급해서\\n[사용자1]: 헐 둘다 깨끗하네난 설거지 귀찮아\\n[사용자2]: 나도 설거지 가끔식 미룰 때도 있는데 파리 생기더라구\\n[사용자3]: 진짜 깔끔하게 사는 편이라 ㅋㅋ 빨리 치워버려야 해\\n[사용자1]: 설거지 너무 싫어특히 음식물 쓰레기 너무 싫어\\n[사용자2]: 맞아음쓰 나오는 게 제일 싫어\\n[사용자3]: 진짜 파리 생기면 답도 없지\\n[사용자1]: 진짜 ㅋㅋ그래서 음식물은 바로 치워\\n[사용자2]: 내가 먹은 거지만 파리도 꼬이고 냄새도 너무 나,\\n[사용자3]: 나도 바로바로 치워 냄새나서\\n[사용자1]: 진짜 깔끔하네부럽다\\n[사용자2]: 냄새나면 바로 치우게 될걸?\\n[사용자3]: 진짜 청소하는 것도 일이야 스트레스 받고\\n[사용자1]: 혼자 사니까 더 힘든 것 같아\\n[사용자2]: 청소하는 사람 있었으면 좋겠어\\n[사용자3]: 그래도 난 내 방은 내가 치워\"\n",
    "text = \"[사용자1]: 너희는 설거지 생기면 바로 해?\\n[사용자2]: 웅 나는 설거지 거의 바로 하는 편이야\"#\\n[사용자3]: 웅 나는 설거지 바로 바로 해 성격이 급해서\"\n",
    "# text = \"[사용자1]: 너희는 설거지 생기면 바로 해?\"\n",
    "z = task.encode(text)# task.generate(z, None)\n",
    "text = \"<|endoftext|> [사용자1]: 너희는 설거지 생기면 바로 해?\\n[사용자2]: \"\n",
    "\n",
    "print(task.generate(z, text, num_beams=1, max_length=64))"
   ]
  },
  {
   "cell_type": "code",
   "execution_count": 42,
   "metadata": {},
   "outputs": [
    {
     "name": "stdout",
     "output_type": "stream",
     "text": [
      "['<|endoftext|> [사용자1]: 커피 마시면 무조건 여행 계획이야 ᄏᄏ\\n[사용자2]: 너는 지금 카페 가고 있어?\\n[사용자1]: 나는 무조건 커피 마시는데\\n[사용자2]: 그치 카페 가면 짜증 나야 해\\n[사용자1]: 약간 계획 짜야']\n"
     ]
    }
   ],
   "source": [
    "text = \"[사용자1]: 너는 여행 가면 무조건 카페 들려?\\n[사용자2]: 그치 나는 밥 먹고 커피 마셔야 해 ㅋㅋ\\n[사용자1]: 지금 계획 짜는데 약간 고민이야\\n[사용자2]: 뭐 때문에 그런 걸로 고민해~\\n[사용자1]: 밥 먹고 카페 가면 동선이 애매해서...\\n[사용자2]: 아니면 그냥 밥 먹고 지나가다 카페 들어가\\n[사용자1]: 그게 나으려나가고 싶은 카페가 안 보이더라고 ㅋㅋ\\n[사용자2]: 그러면 그냥 가다 슬쩍 가면 되겠네~\\n[사용자1]: 여행 계획을 너무 세세하게 짜려 해서 그런가\\n[사용자2]: 그치 그냥 대충 짜고 가서 생각해~\\n[사용자1]: 그래야겠다 이것저것 하려니 스트레스야 ㅋㅋ\\n[사용자2]: 맞아 여행은 스트레스 안 받고 편한 게 최고야!\"\n",
    "# text = \"[사용자1]: 너는 여행 가면 무조건 카페 들려?\\n[사용자2]: 그치 나는 밥 먹고 커피 마셔야 해 ㅋㅋ\"#\\n[사용자1]: 지금 계획 짜는데 약간 고민이야\\n[사용자2]: 뭐 때문에 그런 걸로 고민해~\\n\"\n",
    "# text = \"[사용자1]: 너희는 설거지 생기면 바로 해?\"\n",
    "text = \"<|endoftext|> [사용자1]: 너는 여행 가면 무조건 카페 들려?\\n[사용자2]: 그치 나는 밥 먹고 커피 마셔야 해 ㅋㅋ\\n[사용자1]: 지금 계획 짜는데 약간 고민이야\\n[사용자2]: \"\n",
    "z = task.encode(text)# task.generate(z, None)\n",
    "text = \"<|endoftext|> [사용자1]: 너는 여행 가면 무조건 카페 들려?\\n[사용자2]: \"\n",
    "\n",
    "# print(task.generate(z, text, max_length=64))\n",
    "print(task.generate(z, None, max_length=64))"
   ]
  },
  {
   "cell_type": "code",
   "execution_count": 114,
   "metadata": {},
   "outputs": [
    {
     "data": {
      "text/plain": [
       "['<|endoftext|> [사용자1]: 언니는 지금 헤어스타일 어떻게 바꾸고 싶어?\\n[사용자2]: itqmwhc언니는 지금 어떻게 바꾸고 싶어?\\n[사용자1]: 언니 지금 파이브루루루루루루루야.ᅳᅳᅳᅳᅳᅳ언니는 지금 어떻게 생각해?<|endoftext|>']"
      ]
     },
     "execution_count": 114,
     "metadata": {},
     "output_type": "execute_result"
    }
   ],
   "source": [
    "import torch\n",
    "\n",
    "text1 = \"[사용자1]: 요즘 미용실 너무 비싸... 머리가 기니까 가격도 올랐어\\n[사용자2]: 맞아, 그거 때문에 나도 지금은 장발인데 단발 한번 해볼까 고민 중이야 ㅠㅠ\\n[사용자1]: 그러면 내가 괜찮은 곳 추천해줄까? 추천하면 할인해준대\\n[사용자2]: 아 진짜? 어디야? 알려주라\"\n",
    "text2 = \"[사용자1]: 요즘 머리스타일 마음에 안들어?\\n[사용자2]: 단발도 어울릴 것 같지 않아?\"\n",
    "text3 = \"[사용자1]: 미용실 언제갈꺼야? 내일 간다고 하지 않았어?\\n[사용자2]: 맞아 내일 파마나 하려구 예약해놨어\"\n",
    "text = \"<|endoftext|> [사용자1]: 언니는 지금 헤어스타일 어떻게 바꾸고 싶어?\\n[사용자2]: \"\n",
    "\n",
    "x, y, z = task.encode(text1), task.encode(text2), task.encode(text3)\n",
    "src = task.encode(text)\n",
    "\n",
    "# z = (x + y + z + src) / 4\n",
    "# z = (x + y + z) / 3\n",
    "# z = (x + y) / 2\n",
    "z = src\n",
    "\n",
    "task.generate(z, [text], num_beams=4, max_length=128, min_length=64)"
   ]
  },
  {
   "cell_type": "code",
   "execution_count": null,
   "metadata": {},
   "outputs": [],
   "source": []
  },
  {
   "cell_type": "code",
   "execution_count": 89,
   "metadata": {},
   "outputs": [
    {
     "name": "stdout",
     "output_type": "stream",
     "text": [
      "[사용자1]: 언니 헤어스타일 바꾸고 싶다\n",
      "[사용자1]: 언니 헤어스타일 바꾸고 싶다\n",
      "[사용자1]: 언니 헤어라인 바꾸고 싶다\n",
      "[사용자1]: 언니 헤어다\n",
      "[사용자1]: 언니 헤어 바꾸고 싶다\n",
      "[사용자1]: 언니 헤어 스타일 바꾸고 싶다\n"
     ]
    }
   ],
   "source": [
    "# text = \"언니가 헤어스타일을 바꾸고 싶다는 내용의 대화를 생성하세요 [사용자1]: \"\n",
    "text = \"[사용자1]: 언니 헤어스타일 바꾸고 싶다\"\n",
    "prompt = \"<|endoftext|> [사용자1]:\"\n",
    "x = task.encode(text)\n",
    "\n",
    "print(text)\n",
    "for g in task.generate(x, prompts=prompt, num_beams=15, max_length=64, num_return_sequences=5):\n",
    "    print(g.replace(\"<|endoftext|>\", \"\").replace(\"\\n\",\"\").strip())"
   ]
  },
  {
   "cell_type": "code",
   "execution_count": 88,
   "metadata": {},
   "outputs": [
    {
     "name": "stdout",
     "output_type": "stream",
     "text": [
      "[사용자1]: 오늘 날씨 왜이래? 비가 너무 많이 오는데??\n",
      "\n",
      "[사용자1]: 오늘 날씨 너무 많이 오는데?\n",
      "[사용자1]: 오늘 날씨가 너무 많이 오는데?\n",
      "[사용자1]: 오늘 날씨 왜이래?\n",
      "[사용자1]: 오늘 날씨가 왜이래?\n",
      "[사용자1]: 오늘 비가 너무 많이 오는데?\n"
     ]
    }
   ],
   "source": [
    "text = \"[사용자1]: 오늘 날씨 왜이래? 비가 너무 많이 오는데??\\n\"\n",
    "prompt = \"<|endoftext|> [사용자1]:\"\n",
    "x = task.encode(text)\n",
    "\n",
    "print(text)\n",
    "for g in task.generate(x, prompts=prompt, num_beams=15, max_length=64, num_return_sequences=5):\n",
    "    print(g.replace(\"<|endoftext|>\", \"\").replace(\"\\n\",\"\").strip())"
   ]
  },
  {
   "cell_type": "code",
   "execution_count": 87,
   "metadata": {},
   "outputs": [
    {
     "name": "stdout",
     "output_type": "stream",
     "text": [
      "[사용자1]: 내일 옷 입어야 하는데 뭘 입어야 할지 고민이야.\n",
      "[사용자1]: 내일 친구 결혼식 가야 하는데 뭘 입어야 할지 고민이야.\n",
      "[사용자1]: 내 친구 결혼식 가야 하는데 뭘 입어야 할지 고민이야.\n",
      "[사용자1]: 내일 옷 입어야 하는데 고민이야.[사용자2]: 친구 결혼식 갈 뭘 입어야 할지 고민이야.\n",
      "[사용자1]: 내일 옷 입어야 하는데 고민이야.[사용자2]: 친구 결혼식 가는데 뭘 입어야 할지 고민이야.\n"
     ]
    }
   ],
   "source": [
    "text = \"[사용자1]: 내일 친구 결혼식 가는데 옷을 뭘 입어야 할지 고민이야.\\n\"\n",
    "prompt = \"<|endoftext|> [사용자1]:\"\n",
    "x = task.encode(text)\n",
    "\n",
    "for g in task.generate(x, prompts=prompt, num_beams=15, max_length=64, num_return_sequences=5):\n",
    "    print(g.replace(\"<|endoftext|>\", \"\").replace(\"\\n\",\"\").strip())"
   ]
  },
  {
   "cell_type": "markdown",
   "metadata": {},
   "source": [
    "# Latent 조작 후 generation 실험"
   ]
  },
  {
   "cell_type": "code",
   "execution_count": 13,
   "metadata": {},
   "outputs": [
    {
     "data": {
      "text/plain": [
       "['<|endoftext|> 오빠, 라면 [사용자1]: 배가 고파서 먹고 있다<|endoftext|>',\n",
       " '<|endoftext|> 오빠, 라면 [사용자1]: 배고파서 먹고 있다<|endoftext|>',\n",
       " '<|endoftext|> 오빠, 라면 [사용자1]: 배가 고파서 먹고 있다<|endoftext|>',\n",
       " '<|endoftext|> 오빠, 라면 [사용자1]: 배가 고파서 살고 있다<|endoftext|>',\n",
       " '<|endoftext|> 오빠, 라면 [사용자1]: 배가 고프다<|endoftext|>']"
      ]
     },
     "execution_count": 13,
     "metadata": {},
     "output_type": "execute_result"
    }
   ],
   "source": [
    "text = \"[사용자1]: 오빠가 배고파서 라면을 먹고 있다\"\n",
    "prompt = \"<|endoftext|> 오빠, 라면 [사용자1]:\"\n",
    "x = task.encode(text)\n",
    "# x = x + torch.rand_like(x) * 0.3\n",
    "task.generate(x, prompts=prompt, num_beams=15, max_length=64, num_return_sequences=5, repetition_penalty=2.0)"
   ]
  },
  {
   "cell_type": "code",
   "execution_count": 66,
   "metadata": {},
   "outputs": [
    {
     "data": {
      "text/plain": [
       "['<|endoftext|> 윤석열 [사용자1]: 지금 대통령입니다<|endoftext|>',\n",
       " '<|endoftext|> 윤석열 [사용자1]: 지금 대한민국입니다<|endoftext|>',\n",
       " '<|endoftext|> 윤석열 [사용자1]: 지금 대한민국 국민입니다<|endoftext|>',\n",
       " '<|endoftext|> 윤석열 [사용자1]: 지금 대한민국의<|endoftext|>',\n",
       " '<|endoftext|> 윤석열 [사용자1]: 지금 국민입니다<|endoftext|>']"
      ]
     },
     "execution_count": 66,
     "metadata": {},
     "output_type": "execute_result"
    }
   ],
   "source": [
    "text = \"[사용자1]: 현재 대한민국 대통령은 윤석열입니다\"\n",
    "prompt = \"<|endoftext|> 윤석열 [사용자1]:\"\n",
    "x = task.encode(text)\n",
    "task.generate(x, prompts=prompt, num_beams=15, max_length=64, num_return_sequences=5, repetition_penalty=2.0)"
   ]
  },
  {
   "cell_type": "code",
   "execution_count": 7,
   "metadata": {},
   "outputs": [
    {
     "name": "stdout",
     "output_type": "stream",
     "text": [
      "['[사용자1]: 언니는 지금 어떻게 바꾸고 싶어?<|endoftext|>']\n",
      "[사용자1]: 언니는 지금 헤어스타일 어떻게 바꾸고 싶어?\n",
      " - [사용자1]: 언니, 헤어 + 현대, 패션 =\n",
      "['[사용자1]: 지금 현대 백화점에서 사?<|endoftext|>']\n",
      "['[사용자1]: 오빠 지금 직장 어떻게 하고 싶어?<|endoftext|>']\n"
     ]
    }
   ],
   "source": [
    "text = \"[사용자1]: 언니는 지금 헤어스타일 어떻게 바꾸고 싶어?\\n\"\n",
    "prompt = \"[사용자1]:\"\n",
    "x = task.encode(text)\n",
    "\n",
    "print(task.generate(x, prompts=prompt, num_beams=5, max_length=64))\n",
    "\n",
    "y = \"[사용자1]: 언니, 헤어\"\n",
    "z = \"현대, 패션\"\n",
    "z2 = \"패션\"\n",
    "\n",
    "print(text, \"-\", y, \"+\", z, \"=\")\n",
    "\n",
    "y, z, z2 = task.encode(y), task.encode(z), task.encode(z2)\n",
    "\n",
    "print(task.generate(x - y + z, prompts=prompt, num_beams=5, max_length=64))\n",
    "\n",
    "\n",
    "y = \"[사용자1]: 언니, 헤어\"\n",
    "z = \"[사용자1]: 오빠, 직장\"\n",
    "\n",
    "y, z = task.encode(y), task.encode(z)\n",
    "\n",
    "print(task.generate(x - y + z, prompts=prompt, num_beams=5, max_length=64))"
   ]
  },
  {
   "cell_type": "code",
   "execution_count": 80,
   "metadata": {},
   "outputs": [
    {
     "name": "stdout",
     "output_type": "stream",
     "text": [
      "['[사용자1]: 나 고양이 너무 키우고 싶어 ᅲ<|endoftext|>']\n",
      "['[사용자1]: 나 강아지 너무 키우고 싶어<|endoftext|>']\n",
      "['[사용자1]: 나 너무 때리고 싶어 ᅲ<|endoftext|>']\n"
     ]
    }
   ],
   "source": [
    "text = \"[사용자1]: 나 너무 고양이 키우고 싶어 ㅜㅜ\\n\"\n",
    "prompt = \"[사용자1]:\"\n",
    "x = task.encode(text)\n",
    "\n",
    "print(task.generate(x, prompts=prompt, num_beams=1, max_length=64))\n",
    "\n",
    "y = \"[사용자1]: 고양이\"\n",
    "z = \"[사용자1]: 강아지\"\n",
    "\n",
    "y, z = task.encode(y), task.encode(z)\n",
    "\n",
    "print(task.generate(x - y + z, prompts=prompt, num_beams=1, max_length=64))\n",
    "\n",
    "y = \"[사용자1]: 키우고 싶어 ㅜㅜ\"\n",
    "z = \"[사용자1]: 때리고 싶어 ㅜㅜ\"\n",
    "\n",
    "y, z = task.encode(y), task.encode(z)\n",
    "\n",
    "print(task.generate(x - y + z, prompts=prompt, num_beams=4, max_length=64))"
   ]
  },
  {
   "cell_type": "code",
   "execution_count": 78,
   "metadata": {},
   "outputs": [
    {
     "name": "stdout",
     "output_type": "stream",
     "text": [
      "['[사용자1]: 이번에 우리 아들 서울대입시다!<|endoftext|>']\n",
      "['[사용자1]: 이번에 우리딸 서울대 합격했다!<|endoftext|>']\n",
      "['[사용자1]: 이번에 우리 아들!<|endoftext|>']\n"
     ]
    }
   ],
   "source": [
    "text = \"[사용자1]: 이번에 우리 아들이 서울대학교 합격했다!\"\n",
    "x = task.encode(text)\n",
    "\n",
    "print(task.generate(x, prompts=prompt, num_beams=1, max_length=64))\n",
    "\n",
    "y = \"[사용자1]: 아들\"\n",
    "z = \"[사용자1]: 딸\"\n",
    "\n",
    "y, z = task.encode(y), task.encode(z)\n",
    "\n",
    "print(task.generate(x - y + z, prompts=prompt, num_beams=1, max_length=64))\n",
    "\n",
    "y = \"[사용자1]: 서울대학교\"\n",
    "z = \"[사용자1]: 고려대학교\"\n",
    "\n",
    "y, z = task.encode(y), task.encode(z)\n",
    "\n",
    "print(task.generate(x - y + z, prompts=prompt, num_beams=1, max_length=64))"
   ]
  },
  {
   "cell_type": "markdown",
   "metadata": {},
   "source": [
    "## Interpolation"
   ]
  },
  {
   "cell_type": "code",
   "execution_count": 104,
   "metadata": {},
   "outputs": [
    {
     "name": "stdout",
     "output_type": "stream",
     "text": [
      "0.0 ['<|endoftext|> [사용자1]: 나 여행 가면 짱구 사고 싶어<|endoftext|>']\n",
      "0.1 ['<|endoftext|> [사용자1]: 나 여행 가면 닌텐도 사고 싶어<|endoftext|>']\n",
      "0.2 ['<|endoftext|> [사용자1]: 나 여행 가면 닌텐도 사고 싶어<|endoftext|>']\n",
      "0.3 ['<|endoftext|> [사용자1]: 나 여행 가면 닌텐도 사고 싶어.<|endoftext|>']\n",
      "0.4 ['<|endoftext|> [사용자1]: 나 여행 가면 괜찮은 것 같아.<|endoftext|>']\n",
      "0.5 ['<|endoftext|> [사용자1]: 나 여행 가면 괜찮은 것 같아.<|endoftext|>']\n",
      "0.6 ['<|endoftext|> [사용자1]: 난 요즘 날씨가 너무 좋아.<|endoftext|>']\n",
      "0.7 ['<|endoftext|> [사용자1]: 날씨가 너무 추워졌어요.<|endoftext|>']\n",
      "0.8 ['<|endoftext|> [사용자1]: 날씨가 너무 추워졌어요.<|endoftext|>']\n",
      "0.9 ['<|endoftext|> [사용자1]: 날씨가 너무 추워졌어요.<|endoftext|>']\n",
      "1.0 ['<|endoftext|> [사용자1]: 최근 날씨가 너무 추워진 것 같아요.<|endoftext|>']\n"
     ]
    }
   ],
   "source": [
    "def test_interpolation(a, b):\n",
    "    a = task.encode(\"[사용자1]: \" + a)\n",
    "    b = task.encode(\"[사용자1]: \" + b)\n",
    "    \n",
    "    for m in range(0, 11):\n",
    "        m = m / 10\n",
    "\n",
    "        z = a * (1 - m) + m * b\n",
    "\n",
    "        print(m, task.generate(z, \"<|endoftext|> [사용자1]:\", num_beams=4))\n",
    "\n",
    "test_interpolation(\n",
    "    \"나 일본 여행 가면 짱구 닌텐도 사고 싶어\", \n",
    "    \"최근 날씨가 너무 추워진 것 같아요.\"\n",
    ")"
   ]
  },
  {
   "cell_type": "code",
   "execution_count": 105,
   "metadata": {},
   "outputs": [
    {
     "name": "stdout",
     "output_type": "stream",
     "text": [
      "0.0 ['<|endoftext|> [사용자1]: 내가 좋아하는 축구경기 보러 가야지.<|endoftext|>']\n",
      "0.1 ['<|endoftext|> [사용자1]: 내가 좋아하는 축구경기 보러 가야지.<|endoftext|>']\n",
      "0.2 ['<|endoftext|> [사용자1]: 내가 좋아하는 축구경기 보러 가야지.<|endoftext|>']\n",
      "0.3 ['<|endoftext|> [사용자1]: 내가 좋아하는 축구경기 보러 가야지.<|endoftext|>']\n",
      "0.4 ['<|endoftext|> [사용자1]: 내가 좋아하는 팝콘 사러 가야지.<|endoftext|>']\n",
      "0.5 ['<|endoftext|> [사용자1]: 우리 아이스크림 사러 가야지.<|endoftext|>']\n",
      "0.6 ['<|endoftext|> [사용자1]: 아이스크림 먹고 싶은데 내가 가야 되나?<|endoftext|>']\n",
      "0.7 ['<|endoftext|> [사용자1]: 아이스크림 먹고 싶은데 가야 되나?<|endoftext|>']\n",
      "0.8 ['<|endoftext|> [사용자1]: 아이스크림 먹고 싶은데 가야 되나?<|endoftext|>']\n",
      "0.9 ['<|endoftext|> [사용자1]: 아이스크림 먹고 싶은데 가야 되나?<|endoftext|>']\n",
      "1.0 ['<|endoftext|> [사용자1]: 아이스크림 먹고 싶은데 가야 되나?<|endoftext|>']\n"
     ]
    }
   ],
   "source": [
    "\n",
    "test_interpolation(\n",
    "    \"내가 제일 좋아하는 축구선수는 손흥민이야. 나중에 경기보러 직접 가야지\", \n",
    "    \"아이스크림 먹고 싶은데 마트 가야 되나? 나가기가 귀찮네\"\n",
    ")"
   ]
  },
  {
   "cell_type": "code",
   "execution_count": null,
   "metadata": {},
   "outputs": [],
   "source": []
  }
 ],
 "metadata": {
  "kernelspec": {
   "display_name": "Python 3.9.13 ('base')",
   "language": "python",
   "name": "python3"
  },
  "language_info": {
   "codemirror_mode": {
    "name": "ipython",
    "version": 3
   },
   "file_extension": ".py",
   "mimetype": "text/x-python",
   "name": "python",
   "nbconvert_exporter": "python",
   "pygments_lexer": "ipython3",
   "version": "3.9.13"
  },
  "orig_nbformat": 4,
  "vscode": {
   "interpreter": {
    "hash": "d4d1e4263499bec80672ea0156c357c1ee493ec2b1c70f0acce89fc37c4a6abe"
   }
  }
 },
 "nbformat": 4,
 "nbformat_minor": 2
}
