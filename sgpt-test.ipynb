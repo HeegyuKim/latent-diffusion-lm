{
 "cells": [
  {
   "cell_type": "code",
   "execution_count": 4,
   "metadata": {},
   "outputs": [],
   "source": [
    "%load_ext autoreload\n",
    "%autoreload 2"
   ]
  },
  {
   "cell_type": "code",
   "execution_count": 12,
   "metadata": {},
   "outputs": [],
   "source": [
    "from src.dataset.sgpt import SGPTDataset, SGPTIterableDataset\n",
    "from src.task.optimus_v2 import OptimusTask\n",
    "from src.task.sgpt import SGPTTask"
   ]
  },
  {
   "cell_type": "code",
   "execution_count": null,
   "metadata": {},
   "outputs": [],
   "source": [
    "vae = OptimusTask.load_from_checkpoint(\"checkpoint/optimus-v2-44M/optimus-v2-tiny-vae.ckpt\")"
   ]
  },
  {
   "cell_type": "code",
   "execution_count": 15,
   "metadata": {},
   "outputs": [],
   "source": [
    "dataset = SGPTDataset(\n",
    "    vae,\n",
    "    [\"heegyu/aihub_daily_conv_2022\"],\n",
    "    16,\n",
    "    column=\"utterances\"\n",
    ")\n"
   ]
  },
  {
   "cell_type": "code",
   "execution_count": 18,
   "metadata": {},
   "outputs": [
    {
     "data": {
      "text/plain": [
       "{'inputs': tensor([[ 0.4252, -0.5721,  1.1754,  ...,  0.0608, -0.0282,  0.0524],\n",
       "         [ 0.1301,  0.5770,  0.2209,  ...,  0.2190, -0.0024, -0.5700],\n",
       "         [ 0.2236,  0.2152,  0.4862,  ...,  0.2209, -0.4296, -0.1005],\n",
       "         ...,\n",
       "         [ 0.2243,  0.8908, -0.1080,  ...,  0.6288, -0.2741, -0.1808],\n",
       "         [-0.1994,  0.6122, -0.0990,  ...,  0.0792, -0.4221, -0.2426],\n",
       "         [ 0.1913, -0.1042,  0.5557,  ..., -0.2009,  0.1301, -0.3088]]),\n",
       " 'attention_mask': tensor([1, 1, 1, 1, 1, 1, 1, 1, 1, 1, 1, 1, 1, 1, 1, 1]),\n",
       " 'labels': tensor([[ 0.1301,  0.5770,  0.2209,  ...,  0.2190, -0.0024, -0.5700],\n",
       "         [ 0.2236,  0.2152,  0.4862,  ...,  0.2209, -0.4296, -0.1005],\n",
       "         [-0.2920,  0.2550,  0.2707,  ...,  0.1403, -0.1182, -0.3284],\n",
       "         ...,\n",
       "         [-0.1994,  0.6122, -0.0990,  ...,  0.0792, -0.4221, -0.2426],\n",
       "         [ 0.1913, -0.1042,  0.5557,  ..., -0.2009,  0.1301, -0.3088],\n",
       "         [-0.0351,  0.3009, -0.4232,  ...,  0.2411, -0.2679, -0.4061]])}"
      ]
     },
     "execution_count": 18,
     "metadata": {},
     "output_type": "execute_result"
    }
   ],
   "source": [
    "dataset[0]"
   ]
  },
  {
   "cell_type": "code",
   "execution_count": 33,
   "metadata": {},
   "outputs": [
    {
     "data": {
      "text/plain": [
       "(torch.Size([16, 512]), torch.Size([16]), torch.Size([16, 512]))"
      ]
     },
     "execution_count": 33,
     "metadata": {},
     "output_type": "execute_result"
    }
   ],
   "source": [
    "item[\"inputs\"].shape, item[\"attention_mask\"].shape, item[\"labels\"].shape"
   ]
  },
  {
   "cell_type": "code",
   "execution_count": 1,
   "metadata": {},
   "outputs": [
    {
     "data": {
      "text/plain": [
       "GPT2Model(\n",
       "  (wte): Embedding(1, 512)\n",
       "  (wpe): Embedding(16, 512)\n",
       "  (drop): Dropout(p=0.1, inplace=False)\n",
       "  (h): ModuleList(\n",
       "    (0): GPT2Block(\n",
       "      (ln_1): LayerNorm((512,), eps=1e-05, elementwise_affine=True)\n",
       "      (attn): GPT2Attention(\n",
       "        (c_attn): Conv1D()\n",
       "        (c_proj): Conv1D()\n",
       "        (attn_dropout): Dropout(p=0.1, inplace=False)\n",
       "        (resid_dropout): Dropout(p=0.1, inplace=False)\n",
       "      )\n",
       "      (ln_2): LayerNorm((512,), eps=1e-05, elementwise_affine=True)\n",
       "      (mlp): GPT2MLP(\n",
       "        (c_fc): Conv1D()\n",
       "        (c_proj): Conv1D()\n",
       "        (act): NewGELUActivation()\n",
       "        (dropout): Dropout(p=0.1, inplace=False)\n",
       "      )\n",
       "    )\n",
       "    (1): GPT2Block(\n",
       "      (ln_1): LayerNorm((512,), eps=1e-05, elementwise_affine=True)\n",
       "      (attn): GPT2Attention(\n",
       "        (c_attn): Conv1D()\n",
       "        (c_proj): Conv1D()\n",
       "        (attn_dropout): Dropout(p=0.1, inplace=False)\n",
       "        (resid_dropout): Dropout(p=0.1, inplace=False)\n",
       "      )\n",
       "      (ln_2): LayerNorm((512,), eps=1e-05, elementwise_affine=True)\n",
       "      (mlp): GPT2MLP(\n",
       "        (c_fc): Conv1D()\n",
       "        (c_proj): Conv1D()\n",
       "        (act): NewGELUActivation()\n",
       "        (dropout): Dropout(p=0.1, inplace=False)\n",
       "      )\n",
       "    )\n",
       "  )\n",
       "  (ln_f): LayerNorm((512,), eps=1e-05, elementwise_affine=True)\n",
       ")"
      ]
     },
     "execution_count": 1,
     "metadata": {},
     "output_type": "execute_result"
    }
   ],
   "source": [
    "from transformers import GPT2Config, GPT2Model\n",
    "\n",
    "config = GPT2Config.from_json_file(\"config/model/sgpt-tiny.json\")\n",
    "gpt = GPT2Model(config)\n",
    "gpt"
   ]
  },
  {
   "cell_type": "code",
   "execution_count": 21,
   "metadata": {},
   "outputs": [
    {
     "data": {
      "text/plain": [
       "tensor(0.9486, grad_fn=<DivBackward0>)"
      ]
     },
     "execution_count": 21,
     "metadata": {},
     "output_type": "execute_result"
    }
   ],
   "source": [
    "import torch.nn.functional as F\n",
    "\n",
    "def step(batch, batch_idx) -> dict:\n",
    "    mask = batch[\"attention_mask\"]\n",
    "    hidden = gpt(\n",
    "        inputs_embeds=batch[\"inputs\"],\n",
    "        attention_mask=mask\n",
    "        ).last_hidden_state\n",
    "    outputs = F.mse_loss(hidden, batch[\"labels\"], reduce=False).mean(-1)\n",
    "    outputs = outputs.masked_fill(mask == 0, 0)\n",
    "    loss = outputs.sum() / mask.sum()\n",
    "\n",
    "    return loss\n",
    "\n",
    "item = dataset[0]\n",
    "for k, v in item.items():\n",
    "    item[k] = v.unsqueeze(0)\n",
    "step(item, 0)"
   ]
  }
 ],
 "metadata": {
  "kernelspec": {
   "display_name": "Python 3.9.7 ('base')",
   "language": "python",
   "name": "python3"
  },
  "language_info": {
   "codemirror_mode": {
    "name": "ipython",
    "version": 3
   },
   "file_extension": ".py",
   "mimetype": "text/x-python",
   "name": "python",
   "nbconvert_exporter": "python",
   "pygments_lexer": "ipython3",
   "version": "3.9.7"
  },
  "orig_nbformat": 4,
  "vscode": {
   "interpreter": {
    "hash": "b09ec625f77bf4fd762565a912b97636504ad6ec901eb2d0f4cf5a7de23e1ee5"
   }
  }
 },
 "nbformat": 4,
 "nbformat_minor": 2
}
