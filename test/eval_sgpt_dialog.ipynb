{
 "cells": [
  {
   "cell_type": "code",
   "execution_count": 1,
   "metadata": {},
   "outputs": [
    {
     "name": "stdout",
     "output_type": "stream",
     "text": [
      "/home/ubuntu/latent-diffusion-lm\n"
     ]
    }
   ],
   "source": [
    "%load_ext autoreload\n",
    "%autoreload 2\n",
    "%cd .."
   ]
  },
  {
   "cell_type": "code",
   "execution_count": 2,
   "metadata": {},
   "outputs": [],
   "source": [
    "from src.task.optimus_v2 import OptimusTask\n",
    "from src.task.sgpt import SGPTTask\n",
    "from coop.metric import levenshtein_batch, levenshtein\n",
    "import torch\n",
    "from datasets import load_dataset"
   ]
  },
  {
   "cell_type": "code",
   "execution_count": 3,
   "metadata": {},
   "outputs": [],
   "source": [
    "sgpt = SGPTTask.load_from_checkpoint(\"outputs/2022-10-18/06-46-26/checkpoint/sgpt-tiny-opt44M.ckpt\")"
   ]
  },
  {
   "cell_type": "code",
   "execution_count": 15,
   "metadata": {},
   "outputs": [
    {
     "data": {
      "text/plain": [
       "<torch.autograd.grad_mode.set_grad_enabled at 0x7fdcf62a2bb0>"
      ]
     },
     "execution_count": 15,
     "metadata": {},
     "output_type": "execute_result"
    }
   ],
   "source": [
    "sgpt.eval()\n",
    "torch.set_grad_enabled(False)"
   ]
  },
  {
   "cell_type": "markdown",
   "metadata": {},
   "source": [
    "\n",
    "자주 가는 맛집 있으세요?\n",
    "동네에 돌곱창집 진짜 자주갓는데ㅜ\n",
    "영업시간제한있고는 못갔어요ㅠ\n",
    "아 곱창 맛있는데요!!\n",
    "양념곱창볶음인데ㅜㅜ 진짜 넘 맛있어요 ㅎㅎㅎ"
   ]
  },
  {
   "cell_type": "code",
   "execution_count": 23,
   "metadata": {},
   "outputs": [
    {
     "name": "stdout",
     "output_type": "stream",
     "text": [
      "저기의 선물 아니야잡는데 아니면 10\n"
     ]
    }
   ],
   "source": [
    "def get_next_sentence(context):\n",
    "    latents = sgpt.autoencoder.encode(context.strip().split(\"\\n\"))\n",
    "    response = sgpt.model(inputs_embeds=latents).last_hidden_state[-1, :].unsqueeze(0)\n",
    "    # print(response.shape)\n",
    "    response = sgpt.autoencoder.generate(response, max_length=64, num_beams=4)[0]\n",
    "    print(response)\n",
    "\n",
    "get_next_sentence(\"\"\"\n",
    "자주 가는 맛집 있으세요?\n",
    "동네에 돌곱창집 진짜 자주갓는데ㅜ\n",
    "영업시간제한있고는 못갔어요ㅠ\n",
    "아 곱창 맛있는데요!!\n",
    "양념곱창볶음인데ㅜㅜ 진짜 넘 맛있어요 ㅎㅎㅎ\n",
    "\"\"\")"
   ]
  }
 ],
 "metadata": {
  "kernelspec": {
   "display_name": "Python 3.9.13 ('base')",
   "language": "python",
   "name": "python3"
  },
  "language_info": {
   "codemirror_mode": {
    "name": "ipython",
    "version": 3
   },
   "file_extension": ".py",
   "mimetype": "text/x-python",
   "name": "python",
   "nbconvert_exporter": "python",
   "pygments_lexer": "ipython3",
   "version": "3.9.13"
  },
  "orig_nbformat": 4,
  "vscode": {
   "interpreter": {
    "hash": "d4d1e4263499bec80672ea0156c357c1ee493ec2b1c70f0acce89fc37c4a6abe"
   }
  }
 },
 "nbformat": 4,
 "nbformat_minor": 2
}
